{
 "cells": [
  {
   "cell_type": "code",
   "execution_count": 1,
   "id": "5a45f696",
   "metadata": {},
   "outputs": [],
   "source": [
    "import matplotlib.pyplot as plt\n",
    "import seaborn as sns\n",
    "import numpy as np\n",
    "import pandas as pd\n",
    "import random\n",
    "import warnings\n",
    "from time import time\n",
    "warnings.filterwarnings('ignore')"
   ]
  },
  {
   "cell_type": "code",
   "execution_count": null,
   "id": "34f7b74d",
   "metadata": {},
   "outputs": [],
   "source": []
  },
  {
   "cell_type": "code",
   "execution_count": 2,
   "id": "6f6a8618",
   "metadata": {},
   "outputs": [],
   "source": [
    "def create_graph():\n",
    "    \n",
    "    x=[0.09,0.16,0.84,0.70]\n",
    "    y=[0.17,0.52,0.92,0.16]\n",
    "    \n",
    "    n=len(x)\n",
    "    \n",
    "    l=np.zeros((n,n))\n",
    "    \n",
    "#     print(l)\n",
    "    \n",
    "    for i in range(n):\n",
    "        for j in range(n):\n",
    "            x1=x[i]\n",
    "            y1=y[i]\n",
    "            x2=x[j]\n",
    "            y2=y[j]\n",
    "            \n",
    "            ecd_dist= np.sqrt( (x1-x2)**2 + (y1-y2)**2 )\n",
    "            \n",
    "            l[i,j]=ecd_dist\n",
    "            \n",
    "            \n",
    "    print(l)\n",
    "    \n",
    "    return l"
   ]
  },
  {
   "cell_type": "code",
   "execution_count": 3,
   "id": "4c062eaf",
   "metadata": {},
   "outputs": [
    {
     "name": "stdout",
     "output_type": "stream",
     "text": [
      "[[0.         0.35693137 1.06066017 0.61008196]\n",
      " [0.35693137 0.         0.78892332 0.64899923]\n",
      " [1.06066017 0.78892332 0.         0.77278716]\n",
      " [0.61008196 0.64899923 0.77278716 0.        ]]\n"
     ]
    },
    {
     "data": {
      "text/plain": [
       "numpy.ndarray"
      ]
     },
     "execution_count": 3,
     "metadata": {},
     "output_type": "execute_result"
    }
   ],
   "source": [
    "graph=create_graph()\n",
    "type(graph)"
   ]
  },
  {
   "cell_type": "code",
   "execution_count": 4,
   "id": "1cd01ddd",
   "metadata": {},
   "outputs": [],
   "source": [
    "## rolette_wheel function to choose the best node based on probability"
   ]
  },
  {
   "cell_type": "code",
   "execution_count": 5,
   "id": "77231c0d",
   "metadata": {},
   "outputs": [],
   "source": [
    "\n",
    "def rolette_wheel(p):\n",
    "\n",
    "    cumsum = np.cumsum(p)\n",
    "\n",
    "    r = random.random()\n",
    "\n",
    "    next_node = np.where(r <= cumsum)\n",
    "\n",
    "    next_node = next_node[0][0]\n",
    "\n",
    "    return next_node"
   ]
  },
  {
   "cell_type": "code",
   "execution_count": null,
   "id": "3bf67ddc",
   "metadata": {},
   "outputs": [],
   "source": []
  },
  {
   "cell_type": "code",
   "execution_count": 6,
   "id": "618b01e0",
   "metadata": {},
   "outputs": [],
   "source": [
    "## create colony function"
   ]
  },
  {
   "cell_type": "code",
   "execution_count": 7,
   "id": "5cae8a6b",
   "metadata": {},
   "outputs": [],
   "source": [
    "def create_colony(graph, ant_no, tau, eta, alpha, beta):\n",
    "    n = len(graph)\n",
    "    \n",
    "#     print(n)\n",
    "\n",
    "    colony = []\n",
    "\n",
    "    for i in range(ant_no):\n",
    "        tour = []\n",
    "        initial_node = random.randint(0, n - 1)  # select a random node\n",
    "\n",
    "        tour.append(initial_node)\n",
    "\n",
    "        P_allNodes = tau ** alpha * eta ** beta\n",
    "\n",
    "        for j in range(1, n):  # choose the rest of nodes\n",
    "\n",
    "            currentNode = tour[-1]\n",
    "\n",
    "            p = P_allNodes[initial_node][:]\n",
    "\n",
    "            p[tour[-1]] = 0  # assign 0 to already visited node\n",
    "\n",
    "            P = p / np.sum(p)\n",
    "\n",
    "            next_node = rolette_wheel(P)\n",
    "            \n",
    "            tour.append(next_node)\n",
    "\n",
    "        tour.append(tour[0])\n",
    "\n",
    "        colony.append(tour)\n",
    "    \n",
    "\n",
    "    return colony"
   ]
  },
  {
   "cell_type": "code",
   "execution_count": null,
   "id": "466dd83f",
   "metadata": {},
   "outputs": [],
   "source": []
  },
  {
   "cell_type": "code",
   "execution_count": 8,
   "id": "92d7d9c9",
   "metadata": {},
   "outputs": [],
   "source": [
    "## to calc the fitness of all the ant ( i.e. cost/ distance)"
   ]
  },
  {
   "cell_type": "code",
   "execution_count": 9,
   "id": "a4949e20",
   "metadata": {},
   "outputs": [],
   "source": [
    "def fitness(tour, graph):\n",
    "    fitness = 0\n",
    "\n",
    "    for i in range(len(tour) - 1):\n",
    "        current_node = tour[i]\n",
    "        next_node = tour[i + 1]\n",
    "\n",
    "        fitness = fitness + graph[current_node][next_node]\n",
    "\n",
    "    return fitness"
   ]
  },
  {
   "cell_type": "code",
   "execution_count": null,
   "id": "4923fb4b",
   "metadata": {},
   "outputs": [],
   "source": []
  },
  {
   "cell_type": "code",
   "execution_count": 10,
   "id": "cea95895",
   "metadata": {},
   "outputs": [],
   "source": [
    "## function to update_phromone  "
   ]
  },
  {
   "cell_type": "code",
   "execution_count": 11,
   "id": "6669009e",
   "metadata": {},
   "outputs": [],
   "source": [
    "def local_update_phromone(tau, colony, antno, graph):\n",
    "\n",
    "    for i in range(antno):\n",
    "        for j in range(len(colony[i]) - 1):\n",
    "            current_node = colony[i][j]\n",
    "            next_node = colony[i][j + 1]\n",
    "\n",
    "            \n",
    "            \n",
    "#             print(tau[current_node][next_node])\n",
    "            \n",
    "#             print(current_node,next_node,1 / fitness(colony[i], graph))\n",
    "            \n",
    "            tau[current_node][next_node] = tau[current_node][next_node] + 1 / fitness(colony[i], graph)\n",
    "            \n",
    "#             print(tau[current_node][next_node])\n",
    "#             print()\n",
    "            \n",
    "            tau[next_node][current_node] = tau[next_node][current_node] + 1 / fitness(colony[i], graph)\n",
    "\n",
    "        \n",
    "    return tau\n"
   ]
  },
  {
   "cell_type": "code",
   "execution_count": null,
   "id": "c420e3b5",
   "metadata": {},
   "outputs": [],
   "source": []
  },
  {
   "cell_type": "code",
   "execution_count": 12,
   "id": "1b1d818b",
   "metadata": {
    "scrolled": true
   },
   "outputs": [],
   "source": [
    "def global_update_phromone(tau, graph, f_tour, global_rho):\n",
    "\n",
    "    \n",
    "    f_tour=f_tour-1\n",
    "    \n",
    "    print(\"***********\")\n",
    "    print(f_tour)\n",
    "    \n",
    "    l=len(f_tour)\n",
    "    \n",
    "    \n",
    "    for i in range(l-1):\n",
    "    \n",
    "        current_node = f_tour[i]\n",
    "        next_node = f_tour[i+1]\n",
    "            \n",
    "#         print(tau[current_node][next_node])\n",
    "        \n",
    "        a = tau[current_node][next_node]\n",
    "        \n",
    "        tau[current_node][next_node] += (1-global_rho) * 1 / fitness(f_tour, graph)\n",
    "        \n",
    "        b = tau[current_node][next_node] \n",
    "        \n",
    "        print(b-a)\n",
    "            \n",
    "    return tau"
   ]
  },
  {
   "cell_type": "code",
   "execution_count": 13,
   "id": "4c496e79",
   "metadata": {},
   "outputs": [],
   "source": [
    "## main ACO algo."
   ]
  },
  {
   "cell_type": "code",
   "execution_count": 14,
   "id": "a07b4a0c",
   "metadata": {},
   "outputs": [],
   "source": [
    "def aco_algo(graph, max_iter):\n",
    "    \n",
    "    max_iter = max_iter\n",
    "    ant_no = 5\n",
    "    n = len(graph)\n",
    "    \n",
    "    all_best_tour=[]\n",
    "    \n",
    "    tau0 = 10 * 1 / (len(graph) * np.mean(graph))  # initial phromone\n",
    "\n",
    "    tau = tau0 * np.ones((n, n))  # phromone matx\n",
    "\n",
    "    eta = 1 / graph  # desirability of each edge\n",
    "\n",
    "    rho = 0.05  # evporation rate\n",
    "    alpha = 1  # phromone exponential parameters\n",
    "    beta = 1  # desirability exponential parameter\n",
    "\n",
    "    best_fitness = np.inf\n",
    "\n",
    "    global_rho = 0.5\n",
    "    # main loop for ACO\n",
    "    for i in range(max_iter):\n",
    "\n",
    "        all_fitness = []\n",
    "\n",
    "        colony = create_colony(graph, ant_no, tau, eta, alpha, beta)\n",
    "        \n",
    "        print(colony)\n",
    "\n",
    "        for j in range(ant_no):\n",
    "            all_fitness.append(fitness(colony[j], graph))\n",
    "\n",
    "\n",
    "        min_tour = colony[np.argmin(all_fitness)]\n",
    "        \n",
    "        min_fitness = all_fitness[np.argmin(all_fitness)]\n",
    "\n",
    "        if min_fitness < best_fitness:\n",
    "            all_best_tour=[]\n",
    "        \n",
    "        if min_fitness <= best_fitness:\n",
    "            best_fitness = min_fitness\n",
    "            best_tour = colony[np.argmin(all_fitness)]\n",
    "            best_tour = np.array(best_tour)+1\n",
    "            \n",
    "            \n",
    "        if list(best_tour) not in all_best_tour:\n",
    "            all_best_tour.append(list(best_tour))\n",
    "        \n",
    "\n",
    "        tau = local_update_phromone(tau, colony, ant_no, graph)\n",
    "        \n",
    "        \n",
    "        \n",
    "        \n",
    "        tau = (1 - rho) * tau\n",
    "        \n",
    "        print(tau)\n",
    "        \n",
    "        tau = global_update_phromone(tau, graph, best_tour, global_rho)\n",
    "        \n",
    "        global_rho-=0.1\n",
    "        \n",
    "        print(tau)\n",
    "        \n",
    "\n",
    "        print(f'Iteration = {i + 1}, shortest_path ={best_fitness} , best_tour={best_tour}')\n",
    "        \n",
    "    print(f'\\nShortest Path = {best_fitness}')\n",
    "    \n",
    "    print(\"All best tour = \",*all_best_tour)\n",
    "    "
   ]
  },
  {
   "cell_type": "code",
   "execution_count": 15,
   "id": "462c2a07",
   "metadata": {},
   "outputs": [
    {
     "data": {
      "text/plain": [
       "array([[0.        , 0.35693137, 1.06066017, 0.61008196],\n",
       "       [0.35693137, 0.        , 0.78892332, 0.64899923],\n",
       "       [1.06066017, 0.78892332, 0.        , 0.77278716],\n",
       "       [0.61008196, 0.64899923, 0.77278716, 0.        ]])"
      ]
     },
     "execution_count": 15,
     "metadata": {},
     "output_type": "execute_result"
    }
   ],
   "source": [
    "graph"
   ]
  },
  {
   "cell_type": "code",
   "execution_count": 16,
   "id": "b0d4d2e6",
   "metadata": {},
   "outputs": [
    {
     "name": "stdout",
     "output_type": "stream",
     "text": [
      "[[3, 1, 2, 0, 3], [1, 3, 0, 2, 1], [3, 1, 0, 2, 3], [0, 3, 2, 1, 0], [2, 1, 0, 3, 2]]\n",
      "[[4.48284147 5.56878894 5.42861669 5.84540352]\n",
      " [5.56878894 4.48284147 5.84540352 5.42861669]\n",
      " [5.42861669 5.84540352 4.48284147 5.56878894]\n",
      " [5.84540352 5.42861669 5.56878894 4.48284147]]\n",
      "***********\n",
      "[0 3 2 1 0]\n",
      "0.19772819728639401\n",
      "0.19772819728639401\n",
      "0.19772819728639401\n",
      "0.19772819728639401\n",
      "[[4.48284147 5.56878894 5.42861669 6.04313171]\n",
      " [5.76651714 4.48284147 5.84540352 5.42861669]\n",
      " [5.42861669 6.04313171 4.48284147 5.56878894]\n",
      " [5.84540352 5.42861669 5.76651714 4.48284147]]\n",
      "Iteration = 1, shortest_path =2.5287238080453873 , best_tour=[1 4 3 2 1]\n",
      "[[1, 3, 0, 2, 1], [3, 1, 0, 2, 3], [3, 0, 2, 1, 3], [1, 0, 3, 2, 1], [2, 1, 0, 3, 2]]\n",
      "[[4.25869939 6.37629697 6.10296109 7.10353718]\n",
      " [6.56413876 4.25869939 6.91569539 6.10296109]\n",
      " [6.10296109 7.10353718 4.25869939 6.37629697]\n",
      " [6.91569539 6.10296109 6.56413876 4.25869939]]\n",
      "***********\n",
      "[2 1 0 3 2]\n",
      "0.23727383674367264\n",
      "0.23727383674367264\n",
      "0.23727383674367264\n",
      "0.23727383674367264\n",
      "[[4.25869939 6.37629697 6.10296109 7.34081101]\n",
      " [6.8014126  4.25869939 6.91569539 6.10296109]\n",
      " [6.10296109 7.34081101 4.25869939 6.37629697]\n",
      " [6.91569539 6.10296109 6.8014126  4.25869939]]\n",
      "Iteration = 2, shortest_path =2.5287238080453873 , best_tour=[3 2 1 4 3]\n",
      "[[2, 0, 1, 3, 2], [3, 1, 0, 2, 3], [1, 0, 2, 3, 1], [1, 0, 3, 2, 1], [3, 2, 1, 0, 3]]\n",
      "[[4.04576442 7.81259026 6.80155402 7.72513761]\n",
      " [8.2164501  4.04576442 7.32127777 6.80155402]\n",
      " [6.80155402 7.72513761 4.04576442 7.81259026]\n",
      " [7.32127777 6.80155402 8.2164501  4.04576442]]\n",
      "***********\n",
      "[2 1 0 3 2]\n",
      "0.27681947620095126\n",
      "0.27681947620095215\n",
      "0.27681947620095126\n",
      "0.27681947620095215\n",
      "[[4.04576442 7.81259026 6.80155402 8.00195709]\n",
      " [8.49326958 4.04576442 7.32127777 6.80155402]\n",
      " [6.80155402 8.00195709 4.04576442 7.81259026]\n",
      " [7.32127777 6.80155402 8.49326958 4.04576442]]\n",
      "Iteration = 3, shortest_path =2.5287238080453873 , best_tour=[3 2 1 4 3]\n",
      "[[2, 0, 3, 1, 2], [0, 3, 1, 2, 0], [1, 0, 2, 3, 1], [1, 0, 2, 3, 1], [0, 1, 2, 3, 0]]\n",
      "[[3.8434762  8.46680498 7.74183188 8.58873771]\n",
      " [9.11345033 3.8434762  7.94209236 7.74183188]\n",
      " [7.74183188 8.58873771 3.8434762  8.46680498]\n",
      " [7.94209236 7.74183188 9.11345033 3.8434762 ]]\n",
      "***********\n",
      "[2 1 0 3 2]\n",
      "0.3163651156582308\n",
      "0.3163651156582308\n",
      "0.3163651156582308\n",
      "0.3163651156582308\n",
      "[[3.8434762  8.46680498 7.74183188 8.90510283]\n",
      " [9.42981545 3.8434762  7.94209236 7.74183188]\n",
      " [7.74183188 8.90510283 3.8434762  8.46680498]\n",
      " [7.94209236 7.74183188 9.42981545 3.8434762 ]]\n",
      "Iteration = 4, shortest_path =2.5287238080453873 , best_tour=[3 2 1 4 3]\n",
      "\n",
      "Shortest Path = 2.5287238080453873\n",
      "All best tour =  [1, 4, 3, 2, 1] [3, 2, 1, 4, 3]\n",
      "\n",
      "Total Time 0.03478598594665527\n"
     ]
    }
   ],
   "source": [
    "start=time()\n",
    "aco_algo(graph,4)\n",
    "end=time()\n",
    "print(\"\\nTotal Time\",end-start)"
   ]
  },
  {
   "cell_type": "code",
   "execution_count": null,
   "id": "14c09e8b",
   "metadata": {},
   "outputs": [],
   "source": []
  },
  {
   "cell_type": "code",
   "execution_count": null,
   "id": "ea4003ab",
   "metadata": {},
   "outputs": [],
   "source": []
  },
  {
   "cell_type": "code",
   "execution_count": null,
   "id": "7c16ee6c",
   "metadata": {},
   "outputs": [],
   "source": []
  },
  {
   "cell_type": "code",
   "execution_count": null,
   "id": "ccce858f",
   "metadata": {},
   "outputs": [],
   "source": []
  },
  {
   "cell_type": "markdown",
   "id": "edeec50d",
   "metadata": {},
   "source": [
    "## Travelling Salesman Problem"
   ]
  },
  {
   "cell_type": "code",
   "execution_count": 17,
   "id": "89c451db",
   "metadata": {},
   "outputs": [],
   "source": [
    "## kaggle  TSA Problem \n",
    "#  https://www.kaggle.com/tanmoyie/traveling-salesman-problem-to-optimize-travel"
   ]
  },
  {
   "cell_type": "code",
   "execution_count": 18,
   "id": "cff978bf",
   "metadata": {},
   "outputs": [],
   "source": [
    "l = [[  0, 290, 250,  230,  190,  334, 365,   40], # Dhaka 1\n",
    "    [290,   0, 337,  453,  396,  560, 581,  244], # Syhlet 2\n",
    "    [250, 337,   0,  495,  396,  540, 120,  240], # Chittagonj 3\n",
    "    [230, 453, 495,    0,  360,  150, 595,  242], # Rajshahi 4\n",
    "    [190, 396, 396,  360,    0,  356, 496,  253], # Jossore 5\n",
    "    [334, 560, 540,  150,  356,    0, 674,  275], # Dinajpur 6\n",
    "    [365, 581, 120,  595,  496,  674,   0,  397], # Coxsbazar 7\n",
    "    [40,  244, 240,  242,  253,  275, 397,    0]] # Narsingdi 8\n",
    "    \n",
    "\n",
    "\n",
    "l=np.array(l)\n",
    "\n"
   ]
  },
  {
   "cell_type": "code",
   "execution_count": null,
   "id": "906795ee",
   "metadata": {},
   "outputs": [],
   "source": []
  },
  {
   "cell_type": "code",
   "execution_count": 21,
   "id": "3ef2dd68",
   "metadata": {},
   "outputs": [
    {
     "name": "stdout",
     "output_type": "stream",
     "text": [
      "[[4, 0, 2, 7, 3, 5, 6, 1, 4], [7, 6, 0, 4, 2, 5, 3, 1, 7], [0, 7, 3, 6, 2, 5, 4, 1, 0], [3, 6, 7, 5, 1, 0, 4, 2, 3], [3, 1, 4, 5, 7, 0, 2, 6, 3]]\n",
      "[[0.00385435 0.00451977 0.00458552 0.00385435 0.00484764 0.00385435\n",
      "  0.0042017  0.004605  ]\n",
      " [0.00451977 0.00385435 0.00385435 0.00458399 0.00495388 0.00415141\n",
      "  0.00420323 0.0042017 ]\n",
      " [0.00458552 0.00385435 0.00385435 0.00415141 0.00449876 0.00457006\n",
      "  0.004605   0.00420323]\n",
      " [0.00385435 0.00458399 0.00415141 0.00385435 0.00385435 0.00455058\n",
      "  0.00490206 0.00457159]\n",
      " [0.00484764 0.00495388 0.00449876 0.00385435 0.00385435 0.004605\n",
      "  0.00385435 0.00385435]\n",
      " [0.00385435 0.00415141 0.00457006 0.00455058 0.004605   0.00385435\n",
      "  0.00420323 0.0045337 ]\n",
      " [0.0042017  0.00420323 0.004605   0.00490206 0.00385435 0.00420323\n",
      "  0.00385435 0.00449876]\n",
      " [0.004605   0.0042017  0.00420323 0.00457159 0.00385435 0.0045337\n",
      "  0.00449876 0.00385435]]\n",
      "***********\n",
      "[3 1 4 5 7 0 2 6 3]\n",
      "0.0002012072434607647\n",
      "0.0002012072434607647\n",
      "0.0002012072434607647\n",
      "0.0002012072434607647\n",
      "0.0002012072434607647\n",
      "0.0002012072434607647\n",
      "0.0002012072434607647\n",
      "0.0002012072434607647\n",
      "[[0.00385435 0.00451977 0.00478673 0.00385435 0.00484764 0.00385435\n",
      "  0.0042017  0.004605  ]\n",
      " [0.00451977 0.00385435 0.00385435 0.00458399 0.00515509 0.00415141\n",
      "  0.00420323 0.0042017 ]\n",
      " [0.00458552 0.00385435 0.00385435 0.00415141 0.00449876 0.00457006\n",
      "  0.00480621 0.00420323]\n",
      " [0.00385435 0.0047852  0.00415141 0.00385435 0.00385435 0.00455058\n",
      "  0.00490206 0.00457159]\n",
      " [0.00484764 0.00495388 0.00449876 0.00385435 0.00385435 0.00480621\n",
      "  0.00385435 0.00385435]\n",
      " [0.00385435 0.00415141 0.00457006 0.00455058 0.004605   0.00385435\n",
      "  0.00420323 0.00473491]\n",
      " [0.0042017  0.00420323 0.004605   0.00510327 0.00385435 0.00420323\n",
      "  0.00385435 0.00449876]\n",
      " [0.00480621 0.0042017  0.00420323 0.00457159 0.00385435 0.0045337\n",
      "  0.00449876 0.00385435]]\n",
      "Iteration = 1, shortest_path =2485 , best_tour=[4 2 5 6 8 1 3 7 4]\n",
      "\n",
      "Shortest Path = 2485\n",
      "All best tour =  [4, 2, 5, 6, 8, 1, 3, 7, 4]\n",
      "\n",
      "Total Time 0.010996341705322266\n"
     ]
    }
   ],
   "source": [
    "start=time()\n",
    "aco_algo(l,1)  # aco_algo(graph, max_iteration) \n",
    "end=time()\n",
    "print(\"\\nTotal Time\",end-start)"
   ]
  },
  {
   "cell_type": "code",
   "execution_count": null,
   "id": "e51c79d1",
   "metadata": {},
   "outputs": [],
   "source": []
  },
  {
   "cell_type": "code",
   "execution_count": null,
   "id": "77ee4759",
   "metadata": {},
   "outputs": [],
   "source": []
  }
 ],
 "metadata": {
  "kernelspec": {
   "display_name": "Python 3",
   "language": "python",
   "name": "python3"
  },
  "language_info": {
   "codemirror_mode": {
    "name": "ipython",
    "version": 3
   },
   "file_extension": ".py",
   "mimetype": "text/x-python",
   "name": "python",
   "nbconvert_exporter": "python",
   "pygments_lexer": "ipython3",
   "version": "3.8.8"
  }
 },
 "nbformat": 4,
 "nbformat_minor": 5
}
