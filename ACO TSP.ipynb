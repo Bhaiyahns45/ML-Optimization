{
 "cells": [
  {
   "cell_type": "code",
   "execution_count": 1,
   "id": "97194391",
   "metadata": {},
   "outputs": [],
   "source": [
    "import matplotlib.pyplot as plt\n",
    "import seaborn as sns\n",
    "import numpy as np\n",
    "import pandas as pd\n",
    "from numpy import random"
   ]
  },
  {
   "cell_type": "code",
   "execution_count": null,
   "id": "ca9bcb27",
   "metadata": {},
   "outputs": [],
   "source": []
  },
  {
   "cell_type": "code",
   "execution_count": 2,
   "id": "b258c228",
   "metadata": {},
   "outputs": [],
   "source": [
    "X = np.array([[5,3],\n",
    "    [10,15],\n",
    "    [15,12],\n",
    "    [24,10],\n",
    "    [30,30],\n",
    "    [60,70],\n",
    "    [70,80],\n",
    "    [74,65],\n",
    "    [80,55],\n",
    "    [85,91],])"
   ]
  },
  {
   "cell_type": "code",
   "execution_count": 3,
   "id": "9f14df44",
   "metadata": {},
   "outputs": [
    {
     "data": {
      "text/plain": [
       "(10, 2)"
      ]
     },
     "execution_count": 3,
     "metadata": {},
     "output_type": "execute_result"
    }
   ],
   "source": [
    "X.shape"
   ]
  },
  {
   "cell_type": "code",
   "execution_count": 4,
   "id": "b3629bb4",
   "metadata": {},
   "outputs": [],
   "source": [
    "x = []\n",
    "y = []\n",
    "\n",
    "d=[]\n",
    "for _ in range(10):\n",
    "    x=random.randint(1, 50)\n",
    "    y=random.randint(1, 50)\n",
    "    d.append([x,y])\n",
    "    \n",
    "    \n",
    "d=np.array(d)"
   ]
  },
  {
   "cell_type": "code",
   "execution_count": 5,
   "id": "5cf13dae",
   "metadata": {},
   "outputs": [],
   "source": [
    "# d"
   ]
  },
  {
   "cell_type": "code",
   "execution_count": null,
   "id": "212edebe",
   "metadata": {},
   "outputs": [],
   "source": []
  },
  {
   "cell_type": "code",
   "execution_count": 6,
   "id": "878f4df3",
   "metadata": {},
   "outputs": [],
   "source": [
    "# plt.figure(figsize=(10, 7))\n",
    "# plt.scatter(X[:,0],X[:,1])"
   ]
  },
  {
   "cell_type": "code",
   "execution_count": 7,
   "id": "73907764",
   "metadata": {},
   "outputs": [],
   "source": [
    "def create_graph(x,y):\n",
    "    \n",
    "#     x=[0.09,0.16,0.84,0.70]\n",
    "#     y=[0.17,0.52,0.92,0.16]\n",
    "    \n",
    "    n=len(x)\n",
    "    \n",
    "    l=np.zeros((n,n))\n",
    "    \n",
    "#     print(l)\n",
    "    \n",
    "    for i in range(n):\n",
    "        for j in range(n):\n",
    "            x1=x[i]\n",
    "            y1=y[i]\n",
    "            x2=x[j]\n",
    "            y2=y[j]\n",
    "            \n",
    "            ecd_dist= np.sqrt( (x1-x2)**2 + (y1-y2)**2 )\n",
    "            \n",
    "            l[i,j]=ecd_dist\n",
    "            \n",
    "            \n",
    "#     print(l)\n",
    "    \n",
    "    return l\n",
    "\n",
    "\n",
    "\n",
    "def rolette_wheel(p):\n",
    "\n",
    "    cumsum = np.cumsum(p)\n",
    "\n",
    "    r = random.random()\n",
    "\n",
    "    next_node = np.where(r <= cumsum)\n",
    "\n",
    "    next_node = next_node[0][0]\n",
    "\n",
    "    return next_node\n",
    "\n",
    "\n",
    "def create_colony(graph, ant_no, tau, eta, alpha, beta):\n",
    "    n = len(graph)\n",
    "\n",
    "    colony = []\n",
    "\n",
    "    for i in range(ant_no):\n",
    "        tour = []\n",
    "        \n",
    "#         print(\"length\",n)\n",
    "        \n",
    "        initial_node = 0  # select a random node\n",
    "\n",
    "        tour.append(initial_node)\n",
    "\n",
    "        P_allNodes = tau ** alpha * eta ** beta\n",
    "\n",
    "        for j in range(1, n):  # choose the rest of nodes\n",
    "\n",
    "            currentNode = tour[-1]\n",
    "\n",
    "            p = P_allNodes[initial_node][:]\n",
    "\n",
    "            p[tour[-1]] = 0  # assign 0 to already visited node\n",
    "\n",
    "            P = p / np.sum(p)\n",
    "\n",
    "            next_node = rolette_wheel(P)\n",
    "            \n",
    "            tour.append(next_node)\n",
    "#             print('***********')\n",
    "#             print(clust[next_node-1])\n",
    "#             tour.append(clust[next_node-1])\n",
    "            \n",
    "\n",
    "        tour.append(tour[0])\n",
    "\n",
    "        colony.append(tour)\n",
    "        \n",
    "#     print(colony)\n",
    "\n",
    "    return colony\n",
    "\n",
    "\n",
    "\n",
    "def fitness(tour, graph):\n",
    "    fitness = 0\n",
    "\n",
    "    for i in range(len(tour) - 1):\n",
    "        current_node = tour[i]\n",
    "        next_node = tour[i + 1]\n",
    "\n",
    "        fitness = fitness + graph[current_node][next_node]\n",
    "\n",
    "    return fitness\n",
    "\n",
    "def update_phromone(tau, colony, antno, graph):\n",
    "\n",
    "    for i in range(antno):\n",
    "        for j in range(len(colony[i]) - 1):\n",
    "            current_node = colony[i][j]\n",
    "            next_node = colony[i][j + 1]\n",
    "\n",
    "            tau[current_node][next_node] = tau[current_node][next_node] + 1 / fitness(colony[i], graph)\n",
    "            tau[next_node][current_node] = tau[next_node][current_node] + 1 / fitness(colony[i], graph)\n",
    "\n",
    "            # print(tau)\n",
    "    return tau\n",
    "\n",
    "\n",
    "def aco_algo(graph,clust, max_iter):\n",
    "    \n",
    "    max_iter = max_iter\n",
    "    ant_no = 10\n",
    "    n = len(graph)\n",
    "    \n",
    "    all_best_tour=[]\n",
    "    \n",
    "    tau0 = 10 * 1 / (len(graph) * np.mean(graph))  # initial phromone\n",
    "\n",
    "    tau = tau0 * np.ones((n, n))  # phromone matx\n",
    "\n",
    "    eta = 1 / graph  # desirability of each edge\n",
    "\n",
    "    rho = 0.05  # evporation rate\n",
    "    alpha = 1  # phromone exponential parameters\n",
    "    beta = 1  # desirability exponential parameter\n",
    "\n",
    "    best_fitness = np.inf\n",
    "\n",
    "    \n",
    "    # main loop for ACO\n",
    "    for i in range(max_iter):\n",
    "\n",
    "        all_fitness = []\n",
    "\n",
    "        colony = create_colony(graph, ant_no, tau, eta, alpha, beta)\n",
    "\n",
    "        for j in range(ant_no):\n",
    "            all_fitness.append(fitness(colony[j], graph))\n",
    "\n",
    "\n",
    "        min_tour = colony[np.argmin(all_fitness)]\n",
    "        \n",
    "        min_fitness = all_fitness[np.argmin(all_fitness)]\n",
    "\n",
    "#         if min_fitness < best_fitness:\n",
    "#             all_best_tour=[]\n",
    "        \n",
    "        if min_fitness <= best_fitness:\n",
    "            best_fitness = min_fitness\n",
    "            best_tour = colony[np.argmin(all_fitness)]\n",
    "            best_tour = np.array(best_tour)\n",
    "            \n",
    "            \n",
    "#         if list(best_tour) not in all_best_tour:\n",
    "#             all_best_tour.append(list(best_tour))\n",
    "        \n",
    "\n",
    "        tau = update_phromone(tau, colony, ant_no,graph)\n",
    "\n",
    "        tau = (1 - rho) * tau\n",
    "\n",
    "        best__tour=[-1]\n",
    "        \n",
    "        for i in range(1,len(best_tour)-1):\n",
    "            best__tour.append(clust[best_tour[i]-1])\n",
    "        \n",
    "        best__tour.append(-1)\n",
    "        \n",
    "#         print(f'Iteration = {i + 1}, shortest_path ={best_fitness} , best_tour={best_tour}',best__tour)\n",
    "    \n",
    "        \n",
    "    \n",
    "#     print(f'\\nShortest Path = {best_fitness}')\n",
    "    \n",
    "#     print(\"Best tour = \",best__tour)\n",
    "    \n",
    "    \n",
    "    return best_fitness, best__tour\n",
    "    "
   ]
  },
  {
   "cell_type": "code",
   "execution_count": 17,
   "id": "1b6c9c58",
   "metadata": {},
   "outputs": [
    {
     "name": "stdout",
     "output_type": "stream",
     "text": [
      "-------------\n",
      "[[0, 5], [1, 2, 3, 7, 9], [6, 8], [4]]\n",
      "[11, 17]\n",
      "\n",
      "Cluster1, Center=[10][10]\n",
      "\n",
      "Shortest Path = 34.41307065427439\n",
      "Best tour =  [-1, 0, 5, -1]\n",
      "**************************************************\n",
      "[12, 16, 24, 18, 3]\n"
     ]
    },
    {
     "name": "stderr",
     "output_type": "stream",
     "text": [
      "<ipython-input-7-c16b36c06ef6>:124: RuntimeWarning: divide by zero encountered in true_divide\n",
      "  eta = 1 / graph  # desirability of each edge\n"
     ]
    },
    {
     "name": "stdout",
     "output_type": "stream",
     "text": [
      "\n",
      "Cluster2, Center=[10][40]\n",
      "\n",
      "Shortest Path = 47.89576714974285\n",
      "Best tour =  [-1, 1, 7, 3, 2, 9, -1]\n",
      "**************************************************\n",
      "[35, 33]\n",
      "\n",
      "Cluster3, Center=[40][10]\n",
      "\n",
      "Shortest Path = 16.511661251459557\n",
      "Best tour =  [-1, 6, 8, -1]\n",
      "**************************************************\n",
      "[39]\n",
      "\n",
      "Cluster4, Center=[40][40]\n",
      "\n",
      "Shortest Path = 16.1245154965971\n",
      "Best tour =  [-1, 4, -1]\n",
      "**************************************************\n"
     ]
    },
    {
     "data": {
      "image/png": "[encoded data removed]",
      "text/plain": [
       "<Figure size 1440x720 with 1 Axes>"
      ]
     },
     "metadata": {
      "needs_background": "light"
     },
     "output_type": "display_data"
    }
   ],
   "source": [
    "\n",
    "\n",
    "def euclidean_distance(x1, x2):\n",
    "    return np.sqrt(np.sum((x1 - x2) ** 2))\n",
    "\n",
    "\n",
    "\n",
    "class KMeans:\n",
    "    \n",
    "    def __init__(self, K=2, max_iters=1, plot_steps=False):\n",
    "        self.K = K\n",
    "        self.max_iters = max_iters\n",
    "        self.plot_steps = plot_steps\n",
    "\n",
    "        # list of sample indices for each cluster\n",
    "        self.clusters = [[] for _ in range(self.K)]\n",
    "        \n",
    "#         print(self.clusters)\n",
    "        \n",
    "        \n",
    "        # the centers (mean feature vector) for each cluster\n",
    "        self.centroids = []\n",
    "\n",
    "    def predict(self, X):\n",
    "        self.X = X\n",
    "        self.n_samples= X.shape[0]\n",
    "\n",
    "        # randomly take the k index for centroids\n",
    "#         random_sample_idxs = np.random.choice(self.n_samples, self.K, replace=False)\n",
    "        \n",
    "#         print(random_sample_idxs)\n",
    "        \n",
    "#         print(random_sample_idxs)\n",
    "        \n",
    "#         print(self.X[151])\n",
    "        \n",
    "        # \n",
    "#         self.centroids = [self.X[idx] for idx in random_sample_idxs]\n",
    "        \n",
    "        self.centroids=[[10, 10], [10, 40],[40,10],[40,40]]\n",
    "\n",
    "        \n",
    "#         print(self.centroids)\n",
    "\n",
    "        # Optimize the clusters\n",
    "        for _ in range(self.max_iters):\n",
    "            \n",
    "            \n",
    "            self.clusters = self.create_clusters(self.centroids)\n",
    "\n",
    "            if self.plot_steps:\n",
    "                self.plot()\n",
    "\n",
    "                \n",
    "            \n",
    "#             # Calculate new centroids from the clusters\n",
    "#             centroids_old = self.centroids\n",
    "#             self.centroids = self.get_centroids(self.clusters)\n",
    "            \n",
    "# #             print(self.centroids)\n",
    "\n",
    "#             # check if clusters have changed\n",
    "#             if self.is_converged(centroids_old, self.centroids):\n",
    "#                 break\n",
    "\n",
    "#             if self.plot_steps:\n",
    "#                 self.plot()\n",
    "\n",
    "        # Classify samples as the index of their clusters\n",
    "        return self.get_cluster_labels(self.clusters)\n",
    "\n",
    "    \n",
    "    \n",
    "    \n",
    "    def get_cluster_labels(self, clusters):\n",
    "        # each sample will get the label of the cluster it was assigned to\n",
    "        labels = np.empty(self.n_samples)\n",
    "\n",
    "        for cluster_idx, cluster in enumerate(clusters):\n",
    "            for sample_index in cluster:\n",
    "                labels[sample_index] = cluster_idx\n",
    "        return labels\n",
    "    \n",
    "    \n",
    "    \n",
    "\n",
    "    def create_clusters(self, centroids):\n",
    "        # Assign the samples to the closest centroids to create clusters\n",
    "        clusters = [[] for _ in range(self.K)]\n",
    "        for idx, sample in enumerate(self.X):\n",
    "            \n",
    "#             print(idx,sample)\n",
    "#             print(centroids)\n",
    "\n",
    "            centroid_idx = self.closest_centroid(sample, centroids)\n",
    "            clusters[centroid_idx].append(idx)\n",
    "            \n",
    "        print('-------------')\n",
    "#         print(clusters)    \n",
    "        \n",
    "        return clusters\n",
    "    \n",
    "    \n",
    "\n",
    "    def closest_centroid(self, sample, centroids):\n",
    "        # distance of the current sample to each centroid\n",
    "#         print(sample)\n",
    "        \n",
    "        distances = [euclidean_distance(sample, point) for point in centroids]\n",
    "        \n",
    "#         print(distances)\n",
    "        closest_index = np.argmin(distances)\n",
    "        \n",
    "#         print(closest_index)\n",
    "        return closest_index\n",
    "\n",
    "    \n",
    "    \n",
    "\n",
    "    def plot(self):\n",
    "        fig, ax = plt.subplots(figsize=(20, 10))\n",
    "#         txt=[i for i in range(1,21) ]\n",
    "        \n",
    "        c=self.clusters\n",
    "#         c=np.array(c)\n",
    "#         c=c+1\n",
    "        print(c)\n",
    "\n",
    "        for i, index in enumerate(self.clusters):\n",
    "            point = self.X[index].T\n",
    "#             print(\"index\",index)\n",
    "#             print(self.X[index])\n",
    "            \n",
    "#             print(point)\n",
    "\n",
    "#             x=[]\n",
    "#             y=[]\n",
    "            clust=self.clusters[i]\n",
    "\n",
    "#             print(self.centroids[i])\n",
    "#             x=\n",
    "\n",
    "            x=list(point[0])\n",
    "            y=list(point[1])\n",
    "        \n",
    "            print(x)\n",
    "        \n",
    "            \n",
    "        \n",
    "            x.insert(0,self.centroids[i][0])\n",
    "            y.insert(0,self.centroids[i][1])\n",
    "#             print(x,y)\n",
    "           \n",
    "            ax.scatter(x,y)\n",
    "            graph=create_graph(x,y)\n",
    "#             print(graph)\n",
    "#             print(type(graph))\n",
    "            \n",
    "            best_dist, best_tour = aco_algo(graph,clust,100)\n",
    "        \n",
    "            print(f'\\nCluster{i+1}, Center=[{self.centroids[i][0]}][{self.centroids[i][1]}]')\n",
    "            print(f'\\nShortest Path = {best_dist}')\n",
    "            print(\"Best tour = \",best_tour)\n",
    "            print(\"*\"*50)\n",
    "            \n",
    "            for i, txt in enumerate(index):\n",
    "                ax.annotate(txt, (point[0][i]+0.4,point[1][i]-0.5), fontsize=15)\n",
    "                \n",
    "#             print(index)\n",
    "#             ax.scatter(*point)\n",
    "#             plt.text(*point,index)\n",
    "\n",
    "        for point in self.centroids:\n",
    "            ax.scatter(*point, marker=\"x\", color=\"black\", linewidth=15)\n",
    "\n",
    "        plt.show()\n",
    "\n",
    "\n",
    "        \n",
    "k = KMeans(K=4, max_iters=1, plot_steps=True)\n",
    "y_pred = k.predict(d)\n",
    "# k.plot()"
   ]
  },
  {
   "cell_type": "code",
   "execution_count": 9,
   "id": "aa753744",
   "metadata": {},
   "outputs": [],
   "source": [
    "#   1   2  3   4    5   6  7    8   9    10 11  12\n",
    "# [-1, 24, 3, 34, 31, 7, 23, 41, 16, 22, -1]"
   ]
  },
  {
   "cell_type": "code",
   "execution_count": null,
   "id": "bc6297a6",
   "metadata": {},
   "outputs": [],
   "source": []
  },
  {
   "cell_type": "code",
   "execution_count": null,
   "id": "7bb5b7bf",
   "metadata": {},
   "outputs": [],
   "source": []
  },
  {
   "cell_type": "code",
   "execution_count": null,
   "id": "134c4804",
   "metadata": {},
   "outputs": [],
   "source": []
  },
  {
   "cell_type": "code",
   "execution_count": null,
   "id": "79f005f3",
   "metadata": {},
   "outputs": [],
   "source": []
  },
  {
   "cell_type": "code",
   "execution_count": 10,
   "id": "ac1c8c1a",
   "metadata": {},
   "outputs": [
    {
     "data": {
      "text/plain": [
       "array([[11, 20],\n",
       "       [12, 40],\n",
       "       [16, 43],\n",
       "       [24, 34],\n",
       "       [39, 32],\n",
       "       [17, 25],\n",
       "       [35,  6],\n",
       "       [18, 38],\n",
       "       [33,  8],\n",
       "       [ 3, 42]])"
      ]
     },
     "execution_count": 10,
     "metadata": {},
     "output_type": "execute_result"
    }
   ],
   "source": [
    "d"
   ]
  },
  {
   "cell_type": "code",
   "execution_count": 11,
   "id": "0ce8c273",
   "metadata": {},
   "outputs": [
    {
     "data": {
      "text/plain": [
       "array([[12, 21],\n",
       "       [13, 41],\n",
       "       [17, 44],\n",
       "       [25, 35],\n",
       "       [40, 33],\n",
       "       [18, 26],\n",
       "       [36,  7],\n",
       "       [19, 39],\n",
       "       [34,  9],\n",
       "       [ 4, 43]])"
      ]
     },
     "execution_count": 11,
     "metadata": {},
     "output_type": "execute_result"
    }
   ],
   "source": [
    "d+1"
   ]
  },
  {
   "cell_type": "code",
   "execution_count": 12,
   "id": "e46f0e10",
   "metadata": {},
   "outputs": [],
   "source": [
    "x=[i for i in range(1,21) ]"
   ]
  },
  {
   "cell_type": "code",
   "execution_count": 13,
   "id": "74615da2",
   "metadata": {},
   "outputs": [
    {
     "data": {
      "text/plain": [
       "[1, 2, 3, 4, 5, 6, 7, 8, 9, 10, 11, 12, 13, 14, 15, 16, 17, 18, 19, 20]"
      ]
     },
     "execution_count": 13,
     "metadata": {},
     "output_type": "execute_result"
    }
   ],
   "source": [
    "x"
   ]
  },
  {
   "cell_type": "code",
   "execution_count": 14,
   "id": "dd2b6974",
   "metadata": {},
   "outputs": [
    {
     "data": {
      "text/plain": [
       "(10, 2)"
      ]
     },
     "execution_count": 14,
     "metadata": {},
     "output_type": "execute_result"
    }
   ],
   "source": [
    "d.shape"
   ]
  },
  {
   "cell_type": "code",
   "execution_count": 15,
   "id": "4e3de71a",
   "metadata": {},
   "outputs": [
    {
     "ename": "AttributeError",
     "evalue": "'list' object has no attribute 'shape'",
     "output_type": "error",
     "traceback": [
      "\u001b[1;31m---------------------------------------------------------------------------\u001b[0m",
      "\u001b[1;31mAttributeError\u001b[0m                            Traceback (most recent call last)",
      "\u001b[1;32m<ipython-input-15-9f2b259887ef>\u001b[0m in \u001b[0;36m<module>\u001b[1;34m\u001b[0m\n\u001b[1;32m----> 1\u001b[1;33m \u001b[0mx\u001b[0m\u001b[1;33m.\u001b[0m\u001b[0mshape\u001b[0m\u001b[1;33m\u001b[0m\u001b[1;33m\u001b[0m\u001b[0m\n\u001b[0m",
      "\u001b[1;31mAttributeError\u001b[0m: 'list' object has no attribute 'shape'"
     ]
    }
   ],
   "source": [
    "x.shape"
   ]
  },
  {
   "cell_type": "code",
   "execution_count": null,
   "id": "ed33def3",
   "metadata": {},
   "outputs": [],
   "source": [
    "x"
   ]
  },
  {
   "cell_type": "code",
   "execution_count": null,
   "id": "4ff58cd6",
   "metadata": {},
   "outputs": [],
   "source": []
  },
  {
   "cell_type": "code",
   "execution_count": null,
   "id": "38061c3e",
   "metadata": {},
   "outputs": [],
   "source": []
  },
  {
   "cell_type": "code",
   "execution_count": null,
   "id": "8e34b990",
   "metadata": {},
   "outputs": [],
   "source": [
    "a={-1: (10, 10), -2: (10, 40), -3: (40, 10), -4: (40, 40)}\n",
    "b={1: (10, 10), 2: (10, 40), 3: (40, 10), 4: (40, 40)}"
   ]
  },
  {
   "cell_type": "code",
   "execution_count": null,
   "id": "a2ba6ed0",
   "metadata": {},
   "outputs": [],
   "source": [
    "a.update(b)"
   ]
  },
  {
   "cell_type": "code",
   "execution_count": null,
   "id": "8bdd8995",
   "metadata": {},
   "outputs": [],
   "source": [
    "a"
   ]
  },
  {
   "cell_type": "code",
   "execution_count": null,
   "id": "719fd382",
   "metadata": {},
   "outputs": [],
   "source": []
  },
  {
   "cell_type": "code",
   "execution_count": null,
   "id": "74bb1929",
   "metadata": {},
   "outputs": [],
   "source": []
  },
  {
   "cell_type": "code",
   "execution_count": 305,
   "id": "5471f87e",
   "metadata": {},
   "outputs": [],
   "source": [
    "d=[12,3,4]"
   ]
  },
  {
   "cell_type": "code",
   "execution_count": 306,
   "id": "82a4e011",
   "metadata": {},
   "outputs": [
    {
     "data": {
      "text/plain": [
       "[23, 12, 3, 4]"
      ]
     },
     "execution_count": 306,
     "metadata": {},
     "output_type": "execute_result"
    }
   ],
   "source": [
    "\n",
    "d.insert(0,23)\n",
    "d"
   ]
  },
  {
   "cell_type": "code",
   "execution_count": null,
   "id": "ddd675e9",
   "metadata": {},
   "outputs": [],
   "source": []
  },
  {
   "cell_type": "code",
   "execution_count": null,
   "id": "c434d057",
   "metadata": {},
   "outputs": [],
   "source": [
    "[[2, 3, 8, 9, 17, 20, 21, 23, 24, 25, 29, 37, 38, 39, 41, 42, 49], \n",
    " [1, 10, 27, 30, 31, 35, 36, 43, 44, 46], \n",
    " [0, 4, 6, 11, 12, 15, 18, 22, 26, 32, 33, 34, 47], \n",
    " [5, 7, 13, 14, 16, 19, 28, 40, 45, 48]]\n",
    "\n",
    "Dist=  106.73329996477469\n",
    "['Start', 23, 8, 9, 21, 29, 2, 20, 25, 42, 39, 41, 24, 37, 17, 38, 3, 49, 'End']\n",
    "**************************************************\n",
    "\n",
    "Cluster2, Center=[10][40]\n",
    "\n",
    "Dist=  64.50337185057823\n",
    "['Start', 27, 1, 35, 46, 30, 10, 31, 44, 36, 43, 'End']\n",
    "**************************************************\n",
    "\n",
    "Cluster3, Center=[40][10]\n",
    "\n",
    "Dist=  84.34681470797703\n",
    "['Start', 47, 33, 12, 15, 26, 32, 22, 18, 4, 34, 11, 6, 0, 'End']\n",
    "**************************************************\n",
    "\n",
    "Cluster4, Center=[40][40]\n",
    "\n",
    "Dist=  67.68809503431729\n",
    "['Start', 45, 13, 5, 48, 40, 16, 28, 7, 19, 14, 'End']"
   ]
  }
 ],
 "metadata": {
  "kernelspec": {
   "display_name": "Python 3",
   "language": "python",
   "name": "python3"
  },
  "language_info": {
   "codemirror_mode": {
    "name": "ipython",
    "version": 3
   },
   "file_extension": ".py",
   "mimetype": "text/x-python",
   "name": "python",
   "nbconvert_exporter": "python",
   "pygments_lexer": "ipython3",
   "version": "3.8.8"
  }
 },
 "nbformat": 4,
 "nbformat_minor": 5
}
