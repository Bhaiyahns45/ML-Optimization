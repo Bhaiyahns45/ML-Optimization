{
 "cells": [
  {
   "cell_type": "code",
   "execution_count": 1,
   "id": "43bbbe5f",
   "metadata": {},
   "outputs": [],
   "source": [
    "import matplotlib.pyplot as plt\n",
    "import seaborn as sns\n",
    "import numpy as np\n",
    "import pandas as pd"
   ]
  },
  {
   "cell_type": "code",
   "execution_count": 2,
   "id": "e8506cd8",
   "metadata": {},
   "outputs": [],
   "source": [
    "\n",
    "def objecttive_fun(x):\n",
    "    \n",
    "    return np.sum(np.square(x))\n",
    "\n",
    "    pass"
   ]
  },
  {
   "cell_type": "code",
   "execution_count": null,
   "id": "bfcc11c9",
   "metadata": {},
   "outputs": [],
   "source": []
  },
  {
   "cell_type": "code",
   "execution_count": 3,
   "id": "39e76ca0",
   "metadata": {},
   "outputs": [],
   "source": [
    "\n",
    "# detail of objective function\n",
    "\n",
    "nvar=10\n",
    "\n",
    "ub =np.ones(nvar, dtype=int)\n",
    "lb =np.ones(nvar, dtype=int)\n",
    "\n",
    "ub*=10\n",
    "lb*=(-10)\n",
    "\n",
    "# print(ub)\n",
    "\n",
    "\n",
    "# define the pso parameter\n",
    "\n",
    "no_particle = 10\n",
    "max_iter = 500\n",
    "w_max = 0.9\n",
    "w_min= 0.2\n",
    "\n",
    "v_max = (ub - lb) * 0.2\n",
    "v_min = -v_max\n",
    "\n",
    "c1= 2\n",
    "c2=2\n",
    "\n"
   ]
  },
  {
   "cell_type": "code",
   "execution_count": 4,
   "id": "985f1f1f",
   "metadata": {},
   "outputs": [
    {
     "data": {
      "text/plain": [
       "array([-4., -4., -4., -4., -4., -4., -4., -4., -4., -4.])"
      ]
     },
     "execution_count": 4,
     "metadata": {},
     "output_type": "execute_result"
    }
   ],
   "source": [
    "v_min"
   ]
  },
  {
   "cell_type": "code",
   "execution_count": 6,
   "id": "69cb8637",
   "metadata": {},
   "outputs": [],
   "source": [
    "def swarm_creation():\n",
    "\n",
    "    x= []\n",
    "    for i in range(no_particle):\n",
    "        particle = {\n",
    "            'X': (ub- lb) * np.random.rand(nvar) + lb,\n",
    "            'V': np.zeros(nvar),\n",
    "            'Pbest':{\n",
    "                'X': np.zeros(nvar),\n",
    "                'O': np.inf\n",
    "            }\n",
    "        }\n",
    "        x.append(particle)\n",
    "\n",
    "\n",
    "    swarm = {\n",
    "        'particle':x,\n",
    "\n",
    "        'Gbest':{\n",
    "            'X': np.zeros(nvar),\n",
    "            'O': np.inf\n",
    "        }\n",
    "    }\n",
    "    \n",
    "    \n",
    "    return swarm\n",
    "    "
   ]
  },
  {
   "cell_type": "code",
   "execution_count": 7,
   "id": "2ad17bbd",
   "metadata": {},
   "outputs": [
    {
     "name": "stdout",
     "output_type": "stream",
     "text": [
      "Iter = 500, Gbest=1.7051060970784844e-11\n"
     ]
    }
   ],
   "source": [
    "swarm = swarm_creation()\n",
    "\n",
    "gbest=[]\n",
    "\n",
    "for t in range(1,max_iter+1):\n",
    "    \n",
    "    for k in range(no_particle):\n",
    "        currentX = swarm['particle'][k]['X']\n",
    "        currentO = objecttive_fun(currentX)\n",
    "  \n",
    "        if currentO < swarm['particle'][k]['Pbest']['O']:\n",
    "            swarm['particle'][k]['Pbest']['X'] = currentX\n",
    "            swarm['particle'][k]['Pbest']['O'] = currentO\n",
    "\n",
    "        if currentO < swarm['Gbest']['O']:\n",
    "            swarm['Gbest']['X'] = currentX\n",
    "            swarm['Gbest']['O'] = currentO\n",
    "\n",
    "\n",
    "    w = w_max - (t) * ((w_max - w_min)/max_iter)\n",
    "\n",
    "   \n",
    "    for k in range(no_particle):\n",
    "        swarm['particle'][k]['V'] = w * swarm['particle'][k]['V'] \\\n",
    "        + c1 * np.random.rand(nvar) * (swarm['particle'][k]['Pbest']['X'] - swarm['particle'][k]['X']) \\\n",
    "        + c2 * np.random.rand(nvar) * (swarm['Gbest']['X'] - swarm['particle'][k]['X'])\n",
    "\n",
    "        \n",
    "        # linmiting velocity\n",
    "        swarm['particle'][k]['V'] = np.minimum(swarm['particle'][k]['V'], v_max)\n",
    "        swarm['particle'][k]['V'] = np.maximum(swarm['particle'][k]['V'], v_min)\n",
    "        \n",
    "        \n",
    "        swarm['particle'][k]['X'] = swarm['particle'][k]['X'] + swarm['particle'][k]['V']\n",
    "        \n",
    "        \n",
    "        swarm['particle'][k]['X'] = np.minimum(swarm['particle'][k]['X'], ub)\n",
    "        swarm['particle'][k]['X'] = np.maximum(swarm['particle'][k]['X'], lb)\n",
    "\n",
    "        \n",
    "    gbest.append([swarm['Gbest']['O']])\n",
    "print(f\"Iter = {t}, Gbest={swarm['Gbest']['O']}\")\n",
    "   "
   ]
  },
  {
   "cell_type": "code",
   "execution_count": 106,
   "id": "fde0d083",
   "metadata": {},
   "outputs": [
    {
     "data": {
      "image/png": "[encoded data removed]",
      "text/plain": [
       "<Figure size 576x432 with 1 Axes>"
      ]
     },
     "metadata": {
      "needs_background": "light"
     },
     "output_type": "display_data"
    }
   ],
   "source": [
    "\n",
    "\n",
    "plt.figure(figsize = (8,6))\n",
    "plt.plot(range(max_iter), gbest)\n",
    "plt.xlabel(\"Iteration / Epoch\",fontsize=15)\n",
    "plt.ylabel(\"Gbest\",fontsize=15)\n",
    "plt.show()"
   ]
  },
  {
   "cell_type": "code",
   "execution_count": 34,
   "id": "0308ef45",
   "metadata": {},
   "outputs": [],
   "source": [
    "# swarm"
   ]
  },
  {
   "cell_type": "code",
   "execution_count": 93,
   "id": "3cc7d85d",
   "metadata": {},
   "outputs": [
    {
     "data": {
      "text/plain": [
       "{'X': array([ 1.20657083e-05, -1.04066195e-06,  6.15591336e-07,  4.02607417e-06,\n",
       "         1.53976943e-06,  3.06548239e-06,  3.72931907e-06,  2.55584409e-06,\n",
       "         9.04101727e-07,  3.57702826e-06]),\n",
       " 'V': array([-4.32513978e-07,  1.41257112e-11,  4.02216959e-13, -6.16775728e-13,\n",
       "         2.11014874e-11, -7.33176322e-15, -2.13319990e-13, -4.57002016e-13,\n",
       "         1.68220584e-12,  4.01132803e-15]),\n",
       " 'Pbest': {'X': array([ 1.24982223e-05, -1.04067607e-06,  6.15590934e-07,  4.02607478e-06,\n",
       "          1.53974833e-06,  3.06548239e-06,  3.72931928e-06,  2.55584455e-06,\n",
       "          9.04100045e-07,  3.57702826e-06]),\n",
       "  'O': 2.1969749600392342e-10}}"
      ]
     },
     "execution_count": 93,
     "metadata": {},
     "output_type": "execute_result"
    }
   ],
   "source": [
    "swarm['particle'][1]"
   ]
  },
  {
   "cell_type": "code",
   "execution_count": 92,
   "id": "cf13c5b3",
   "metadata": {},
   "outputs": [
    {
     "data": {
      "text/plain": [
       "array([-6.16775728e-13,  2.11014874e-11])"
      ]
     },
     "execution_count": 92,
     "metadata": {},
     "output_type": "execute_result"
    }
   ],
   "source": [
    "swarm['particle'][1]['V'][index]"
   ]
  },
  {
   "cell_type": "code",
   "execution_count": 48,
   "id": "1a989ac2",
   "metadata": {},
   "outputs": [
    {
     "data": {
      "text/plain": [
       "(array([0, 2, 3, 4, 5, 6, 7, 9], dtype=int64),)"
      ]
     },
     "execution_count": 48,
     "metadata": {},
     "output_type": "execute_result"
    }
   ],
   "source": [
    "np.where(swarm['particle'][1]['V'] > -2.38846236e-09)"
   ]
  },
  {
   "cell_type": "code",
   "execution_count": 50,
   "id": "27197af4",
   "metadata": {},
   "outputs": [
    {
     "data": {
      "text/plain": [
       "array([-2.38846236e-09, -2.38846236e-09, -2.38846236e-09, -2.38846236e-09,\n",
       "       -2.38846236e-09, -2.38846236e-09, -2.38846236e-09, -2.38846236e-09,\n",
       "       -2.38846236e-09, -2.38846236e-09])"
      ]
     },
     "execution_count": 50,
     "metadata": {},
     "output_type": "execute_result"
    }
   ],
   "source": [
    "# np.minimum(swarm['particle'][k]['V'], -2.38846236e-09)"
   ]
  },
  {
   "cell_type": "code",
   "execution_count": 75,
   "id": "288ee62e",
   "metadata": {},
   "outputs": [],
   "source": [
    "arr=np.array([1,2,3,4,6])"
   ]
  },
  {
   "cell_type": "code",
   "execution_count": 89,
   "id": "196f5252",
   "metadata": {},
   "outputs": [],
   "source": [
    "index=np.where(arr>3)"
   ]
  },
  {
   "cell_type": "code",
   "execution_count": 90,
   "id": "de23aafa",
   "metadata": {},
   "outputs": [
    {
     "data": {
      "text/plain": [
       "(array([3, 4], dtype=int64),)"
      ]
     },
     "execution_count": 90,
     "metadata": {},
     "output_type": "execute_result"
    }
   ],
   "source": [
    "index"
   ]
  },
  {
   "cell_type": "code",
   "execution_count": 91,
   "id": "43330ea8",
   "metadata": {},
   "outputs": [],
   "source": [
    "arr[index]=3"
   ]
  },
  {
   "cell_type": "code",
   "execution_count": 79,
   "id": "6094ddc5",
   "metadata": {},
   "outputs": [
    {
     "data": {
      "text/plain": [
       "array([1, 2, 3, 4, 6])"
      ]
     },
     "execution_count": 79,
     "metadata": {},
     "output_type": "execute_result"
    }
   ],
   "source": [
    "arr"
   ]
  },
  {
   "cell_type": "code",
   "execution_count": 100,
   "id": "133dd098",
   "metadata": {},
   "outputs": [
    {
     "data": {
      "text/plain": [
       "array([1, 2, 3, 3, 3])"
      ]
     },
     "execution_count": 100,
     "metadata": {},
     "output_type": "execute_result"
    }
   ],
   "source": [
    " np.minimum(arr, 3)"
   ]
  },
  {
   "cell_type": "code",
   "execution_count": null,
   "id": "0402185f",
   "metadata": {},
   "outputs": [],
   "source": []
  }
 ],
 "metadata": {
  "kernelspec": {
   "display_name": "Python 3 (ipykernel)",
   "language": "python",
   "name": "python3"
  },
  "language_info": {
   "codemirror_mode": {
    "name": "ipython",
    "version": 3
   },
   "file_extension": ".py",
   "mimetype": "text/x-python",
   "name": "python",
   "nbconvert_exporter": "python",
   "pygments_lexer": "ipython3",
   "version": "3.8.8"
  }
 },
 "nbformat": 4,
 "nbformat_minor": 5
}
