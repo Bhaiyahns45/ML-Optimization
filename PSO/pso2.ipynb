{
 "cells": [
  {
   "cell_type": "code",
   "execution_count": 19,
   "id": "e13e8422",
   "metadata": {},
   "outputs": [],
   "source": [
    "import matplotlib.pyplot as plt\n",
    "import seaborn as sns\n",
    "import numpy as np\n",
    "import pandas as pd"
   ]
  },
  {
   "cell_type": "code",
   "execution_count": null,
   "id": "7cb4424e",
   "metadata": {},
   "outputs": [],
   "source": []
  },
  {
   "cell_type": "code",
   "execution_count": 20,
   "id": "1eb96e6b",
   "metadata": {},
   "outputs": [],
   "source": [
    "\n",
    "def objecttive_fun(x):\n",
    "    \n",
    "    return np.sum(np.square(x))\n",
    "\n",
    "    pass\n"
   ]
  },
  {
   "cell_type": "code",
   "execution_count": 21,
   "id": "9fa9c0a2",
   "metadata": {},
   "outputs": [],
   "source": [
    "\n",
    "# detail of objective function\n",
    "\n",
    "nvar=10\n",
    "\n",
    "ub =np.ones(nvar, dtype=int)\n",
    "lb =np.ones(nvar, dtype=int)\n",
    "\n",
    "ub*=10\n",
    "lb*=(-10)\n",
    "\n",
    "# print(ub)\n",
    "\n",
    "\n",
    "# define the pso parameter\n",
    "\n",
    "no_particle = 10\n",
    "max_iter = 500\n",
    "w_max = 0.9\n",
    "w_min=0.2\n",
    "\n",
    "v_max = (ub - lb) * 0.2\n",
    "v_min = -v_max\n",
    "\n",
    "c1= 2\n",
    "c2=2\n",
    "\n"
   ]
  },
  {
   "cell_type": "code",
   "execution_count": null,
   "id": "503ec38d",
   "metadata": {},
   "outputs": [],
   "source": []
  },
  {
   "cell_type": "code",
   "execution_count": 22,
   "id": "12d2a361",
   "metadata": {},
   "outputs": [],
   "source": [
    "## pso algorithm"
   ]
  },
  {
   "cell_type": "code",
   "execution_count": 23,
   "id": "0cea27d9",
   "metadata": {},
   "outputs": [],
   "source": [
    "# initialize the particle \n",
    "particle = np.array([])\n",
    "\n",
    "\n",
    "class Swarm:\n",
    "    \n",
    "    class Gbest:\n",
    "        def __init__(self):\n",
    "            self.X = np.zeros(nvar)\n",
    "            self.O = np.inf\n",
    "    \n",
    "    def __init__(self, nvar,ub,lb):\n",
    "        self.nvar =nvar\n",
    "        self.particle = []\n",
    "        self.Gbest= self.Gbest() \n",
    "    \n",
    "    \n",
    "    \n",
    "    def add_particle(self):\n",
    "        p = Particle()\n",
    "        self.particle.append(p)\n",
    "    \n",
    "    "
   ]
  },
  {
   "cell_type": "code",
   "execution_count": 24,
   "id": "753277cb",
   "metadata": {},
   "outputs": [],
   "source": [
    "class Particle:\n",
    "    \n",
    "    class Pbest:\n",
    "        def __init__(self):\n",
    "            self.X =np.zeros(nvar)\n",
    "            self.O = np.inf\n",
    "            \n",
    "    def __init__(self):\n",
    "        self.X = (ub- lb) * np.random.rand(nvar) + lb\n",
    "        self.V = np.zeros(nvar)\n",
    "        self.Pbest = self.Pbest()\n",
    "\n",
    "    "
   ]
  },
  {
   "cell_type": "code",
   "execution_count": null,
   "id": "19166e9f",
   "metadata": {},
   "outputs": [],
   "source": []
  },
  {
   "cell_type": "code",
   "execution_count": 25,
   "id": "4517b4a3",
   "metadata": {},
   "outputs": [],
   "source": [
    "sw=Swarm(10,ub,lb)\n",
    "for i in range(no_particle):\n",
    "    sw.add_particle()\n"
   ]
  },
  {
   "cell_type": "code",
   "execution_count": 26,
   "id": "cad41641",
   "metadata": {},
   "outputs": [
    {
     "name": "stdout",
     "output_type": "stream",
     "text": [
      "[ 7.37250675  8.27396831  9.50660238  1.78270437 -5.05467446  8.68317362\n",
      " -4.74505329 -2.81443777  3.41863906  5.08444806]\n",
      "[0. 0. 0. 0. 0. 0. 0. 0. 0. 0.]\n",
      "[0. 0. 0. 0. 0. 0. 0. 0. 0. 0.]\n",
      "[ 9.7406113   1.1442542   4.56407472 -5.34576694 -7.43395763 -7.52554024\n",
      " -9.80697555 -0.27659206  3.88347363 -9.87419831]\n",
      "[0. 0. 0. 0. 0. 0. 0. 0. 0. 0.]\n",
      "[0. 0. 0. 0. 0. 0. 0. 0. 0. 0.]\n",
      "[-1.85960456  3.25730746 -2.93304349  0.69683776 -9.98768267  1.69942537\n",
      " -2.42194213 -6.60480458  1.3075609  -8.20144845]\n",
      "[0. 0. 0. 0. 0. 0. 0. 0. 0. 0.]\n",
      "[0. 0. 0. 0. 0. 0. 0. 0. 0. 0.]\n",
      "[ 1.64546726 -7.3224498   6.84197899  9.66278318  9.2915002   3.39790891\n",
      "  7.50735115  6.03329628  9.43083109 -6.38959075]\n",
      "[0. 0. 0. 0. 0. 0. 0. 0. 0. 0.]\n",
      "[0. 0. 0. 0. 0. 0. 0. 0. 0. 0.]\n",
      "[-6.83924558 -8.48558992  9.40356915  9.3647361   8.14359734  7.41394281\n",
      " -0.22806776 -9.18159954  5.05256051 -8.58776988]\n",
      "[0. 0. 0. 0. 0. 0. 0. 0. 0. 0.]\n",
      "[0. 0. 0. 0. 0. 0. 0. 0. 0. 0.]\n",
      "[-6.37077344  2.16104366 -6.1585675  -0.82409355  9.62476047  9.79168755\n",
      "  3.87615643  0.55646165 -2.92434835 -9.94432112]\n",
      "[0. 0. 0. 0. 0. 0. 0. 0. 0. 0.]\n",
      "[0. 0. 0. 0. 0. 0. 0. 0. 0. 0.]\n",
      "[ 5.06086704  0.45478506 -1.77587546  3.91453674  3.12975647 -8.75918542\n",
      "  8.97796132  9.17842838 -2.37744171 -7.68011338]\n",
      "[0. 0. 0. 0. 0. 0. 0. 0. 0. 0.]\n",
      "[0. 0. 0. 0. 0. 0. 0. 0. 0. 0.]\n",
      "[-4.35318117  7.03070164 -7.85115501  4.1964606   9.29640724  9.18423251\n",
      "  3.90613261  7.0833942   7.57222777 -0.69901005]\n",
      "[0. 0. 0. 0. 0. 0. 0. 0. 0. 0.]\n",
      "[0. 0. 0. 0. 0. 0. 0. 0. 0. 0.]\n",
      "[ 8.46006805  1.78790785  7.36793565  2.15668145  6.25100384  6.6216125\n",
      "  8.91905866  5.19974599  7.41269019 -3.93006269]\n",
      "[0. 0. 0. 0. 0. 0. 0. 0. 0. 0.]\n",
      "[0. 0. 0. 0. 0. 0. 0. 0. 0. 0.]\n",
      "[ 1.06179491 -0.17042918 -4.47965859  4.1649229  -3.29881387 -6.91394118\n",
      "  9.64350648  3.06010491 -5.79247689  3.77851441]\n",
      "[0. 0. 0. 0. 0. 0. 0. 0. 0. 0.]\n",
      "[0. 0. 0. 0. 0. 0. 0. 0. 0. 0.]\n"
     ]
    }
   ],
   "source": [
    "\n",
    "for i in range(no_particle):\n",
    "    print(sw.particle[i].X)\n",
    "    print(sw.particle[i].V)\n",
    "    print(sw.particle[i].Pbest.X)"
   ]
  },
  {
   "cell_type": "code",
   "execution_count": 27,
   "id": "06c3b0e2",
   "metadata": {},
   "outputs": [
    {
     "data": {
      "text/plain": [
       "array([ 7.37250675,  8.27396831,  9.50660238,  1.78270437, -5.05467446,\n",
       "        8.68317362, -4.74505329, -2.81443777,  3.41863906,  5.08444806])"
      ]
     },
     "execution_count": 27,
     "metadata": {},
     "output_type": "execute_result"
    }
   ],
   "source": [
    "sw.particle[0].X"
   ]
  },
  {
   "cell_type": "code",
   "execution_count": 30,
   "id": "712f7aab",
   "metadata": {},
   "outputs": [
    {
     "name": "stdout",
     "output_type": "stream",
     "text": [
      "Iter= 500 Gbest=1.46718632136321e-24\n"
     ]
    }
   ],
   "source": [
    "# mainj loop\n",
    "\n",
    "gbest= []\n",
    "\n",
    "for t in range(500):\n",
    "    \n",
    "    # calculate objective value\n",
    "    for k in range(no_particle):\n",
    "    \n",
    "        currentX = sw.particle[k].X\n",
    "        current_o= objecttive_fun(currentX)\n",
    "        \n",
    "     \n",
    "#         print(current_o)\n",
    "        # update pbest\n",
    "        if current_o < sw.particle[k].Pbest.O:\n",
    "            sw.particle[k].Pbest.X = currentX\n",
    "            sw.particle[k].Pbest.O = current_o\n",
    "            \n",
    "       \n",
    "        # update gbest\n",
    "        if current_o < sw.Gbest.O:\n",
    "            sw.Gbest.X = currentX\n",
    "            sw.Gbest.O = current_o\n",
    "\n",
    "        # update the initial weight\n",
    "        w = w_max - (t+1) * ((w_max - w_min)/ max_iter)\n",
    "        \n",
    "        \n",
    "    for k in range(no_particle):\n",
    "        \n",
    "        sw.particle[k].V = w * sw.particle[k].V \\\n",
    "        + c1 * np.random.rand(nvar) * (sw.particle[k].Pbest.X - sw.particle[k].X) \\\n",
    "        + c2 * np.random.rand(nvar) * (sw.Gbest.X - sw.particle[k].X)\n",
    "            \n",
    "            \n",
    "#         print(sw.particle[k].V)\n",
    "        sw.particle[k].V = np.minimum(sw.particle[k].V, v_max)\n",
    "        sw.particle[k].V = np.maximum(sw.particle[k].V, v_min)\n",
    "        \n",
    "        sw.particle[k].X = sw.particle[k].X + sw.particle[k].V\n",
    "       \n",
    "        sw.particle[k].X = np.minimum(sw.particle[k].X, ub)\n",
    "        sw.particle[k].X = np.maximum(sw.particle[k].X, lb)\n",
    "#         print(sw.particle[k].X)\n",
    "\n",
    "\n",
    "    gbest.append(sw.Gbest.O)\n",
    "        \n",
    "    \n",
    "print(f\"Iter= {t+1} Gbest={ sw.Gbest.O}\")\n",
    "        "
   ]
  },
  {
   "cell_type": "code",
   "execution_count": 31,
   "id": "0c1fa201",
   "metadata": {},
   "outputs": [
    {
     "data": {
      "image/png": "[encoded data removed]",
      "text/plain": [
       "<Figure size 576x432 with 1 Axes>"
      ]
     },
     "metadata": {
      "needs_background": "light"
     },
     "output_type": "display_data"
    }
   ],
   "source": [
    "\n",
    "plt.figure(figsize = (8,6))\n",
    "plt.plot(range(max_iter), gbest)\n",
    "plt.xlabel(\"Iteration / Epoch\",fontsize=15)\n",
    "plt.ylabel(\"Gbest\",fontsize=15)\n",
    "plt.show()"
   ]
  },
  {
   "cell_type": "code",
   "execution_count": null,
   "id": "c22b2570",
   "metadata": {},
   "outputs": [],
   "source": []
  },
  {
   "cell_type": "code",
   "execution_count": null,
   "id": "2f50570c",
   "metadata": {},
   "outputs": [],
   "source": []
  }
 ],
 "metadata": {
  "kernelspec": {
   "display_name": "Python 3 (ipykernel)",
   "language": "python",
   "name": "python3"
  },
  "language_info": {
   "codemirror_mode": {
    "name": "ipython",
    "version": 3
   },
   "file_extension": ".py",
   "mimetype": "text/x-python",
   "name": "python",
   "nbconvert_exporter": "python",
   "pygments_lexer": "ipython3",
   "version": "3.8.8"
  }
 },
 "nbformat": 4,
 "nbformat_minor": 5
}
